{
 "cells": [
  {
   "cell_type": "markdown",
   "metadata": {},
   "source": [
    "# Axis relation (r similarity) plot\n",
    "\n",
    "Here is an example of plotting the relationship of two axes, as the two axes plotted in relation to one another. This method requires the r (correlation) coefficient between axes to plot. E.g., R coefficients may be calculated between individual variables, or, clusters and principal components.\n",
    "\n",
    "---\n",
    "First, we load the package modules."
   ]
  },
  {
   "cell_type": "code",
   "execution_count": 14,
   "metadata": {},
   "outputs": [],
   "source": [
    "import spaceplot_DMtools as spdmt # tools to load/manipulate distance matrices\n",
    "import spaceplot_plotter as spp # plotting tools"
   ]
  },
  {
   "cell_type": "markdown",
   "metadata": {},
   "source": [
    "## Load data\n",
    "\n",
    "Load DM and labels:"
   ]
  },
  {
   "cell_type": "code",
   "execution_count": 8,
   "metadata": {
    "collapsed": true
   },
   "outputs": [],
   "source": [
    "labels,DM = spdmt.read_DM( 'example_DM.csv' )"
   ]
  },
  {
   "cell_type": "markdown",
   "metadata": {},
   "source": [
    "## Plot and save axis r coefficient relation plot"
   ]
  },
  {
   "cell_type": "code",
   "execution_count": 18,
   "metadata": {},
   "outputs": [
    {
     "name": "stdout",
     "output_type": "stream",
     "text": [
      "Help on function axesR_plot in module spaceplot_plotter:\n",
      "\n",
      "axesR_plot(r, label_axes=None, orthComp=True, figoutpath='AxesR_plot.png')\n",
      "    Plot relation of two axes to one another based on Pearson\n",
      "    correlation between axes. One axis is horizontal X axis,\n",
      "    light gray vertical axis is provided by default for comparison\n",
      "    to no relation. For recommended ways to estimate\n",
      "    r coefficient between groups of variables, e.g., groups\n",
      "    via clustering/PCA, see: http://www.statsoft.com/Textbook/Cluster-Analysis\n",
      "    ---\n",
      "    ARGUMENTS:\n",
      "    ---\n",
      "    r: float, pearson r\n",
      "    label_axes: optional, list of strings, labels for [x,y] axes\n",
      "    orthComp: opaitonal, boolean, if True, provide Y axis as vector to highlight\n",
      "              ...comparison of relationship to 0, or orthogonal axes\n",
      "    figoutpath: optional, str, filename/type if to save figure\n",
      "    ---\n",
      "    Returns: No return, plots and saves plot of axis relation\n",
      "\n"
     ]
    },
    {
     "data": {
      "image/png": "[encoded data removed]",
      "text/plain": [
       "<matplotlib.figure.Figure at 0x1193ca9d0>"
      ]
     },
     "metadata": {},
     "output_type": "display_data"
    }
   ],
   "source": [
    "help(spp.axesR_plot)\n",
    "r = -.4\n",
    "spp.axesR_plot(r, label_axes=['Trustworthiness','Dominance'], orthComp=True )"
   ]
  }
 ],
 "metadata": {
  "kernelspec": {
   "display_name": "Python 2",
   "language": "python",
   "name": "python2"
  },
  "language_info": {
   "codemirror_mode": {
    "name": "ipython",
    "version": 2
   },
   "file_extension": ".py",
   "mimetype": "text/x-python",
   "name": "python",
   "nbconvert_exporter": "python",
   "pygments_lexer": "ipython2",
   "version": "2.7.14"
  }
 },
 "nbformat": 4,
 "nbformat_minor": 2
}
