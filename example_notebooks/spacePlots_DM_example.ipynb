{
 "cells": [
  {
   "cell_type": "markdown",
   "metadata": {},
   "source": [
    "# Distance matrix plotting\n",
    "\n",
    "Here is an example of plotting a distance matrix, along with loading and reordering distance matrices.\n",
    "\n",
    "---\n",
    "First, we load the package modules."
   ]
  },
  {
   "cell_type": "code",
   "execution_count": 11,
   "metadata": {
    "collapsed": true
   },
   "outputs": [],
   "source": [
    "import spaceplot_DMtools as spdmt # tools to load/manipulate distance matrices\n",
    "import spaceplot_plotter as spp # plotting tools"
   ]
  },
  {
   "cell_type": "markdown",
   "metadata": {},
   "source": [
    "## Load data\n",
    "\n",
    "Load DM and labels:"
   ]
  },
  {
   "cell_type": "code",
   "execution_count": 2,
   "metadata": {},
   "outputs": [
    {
     "name": "stdout",
     "output_type": "stream",
     "text": [
      "('Labels:', ['aggressive', 'caring', 'confident', 'dominant', 'emotionally_stable', 'intelligent', 'mean', 'responsible', 'sociable', 'trustworthy', 'unhappy', 'weird'])\n"
     ]
    },
    {
     "data": {
      "text/plain": [
       "array([[ 0.  ,  5.38,  3.35,  2.21,  5.05,  4.12,  2.3 ,  4.52,  4.19,\n",
       "         4.84,  3.16,  4.25],\n",
       "       [ 5.38,  0.  ,  3.07,  4.58,  2.49,  3.12,  5.95,  2.55,  2.68,\n",
       "         2.26,  4.57,  3.74],\n",
       "       [ 3.35,  3.07,  0.  ,  2.75,  2.42,  2.77,  4.14,  2.76,  2.26,\n",
       "         2.88,  5.23,  4.36],\n",
       "       [ 2.21,  4.58,  2.75,  0.  ,  3.88,  3.47,  2.81,  3.75,  3.51,\n",
       "         4.06,  4.28,  4.52],\n",
       "       [ 5.05,  2.49,  2.42,  3.88,  0.  ,  3.11,  5.17,  2.51,  2.82,\n",
       "         2.51,  5.28,  4.32],\n",
       "       [ 4.12,  3.12,  2.77,  3.47,  3.11,  0.  ,  4.25,  2.72,  3.32,\n",
       "         3.03,  3.99,  3.36],\n",
       "       [ 2.3 ,  5.95,  4.14,  2.81,  5.17,  4.25,  0.  ,  4.75,  4.87,\n",
       "         5.31,  2.77,  4.35],\n",
       "       [ 4.52,  2.55,  2.76,  3.75,  2.51,  2.72,  4.75,  0.  ,  3.17,\n",
       "         2.15,  4.46,  4.11],\n",
       "       [ 4.19,  2.68,  2.26,  3.51,  2.82,  3.32,  4.87,  3.17,  0.  ,\n",
       "         3.06,  5.05,  4.52],\n",
       "       [ 4.84,  2.26,  2.88,  4.06,  2.51,  3.03,  5.31,  2.15,  3.06,\n",
       "         0.  ,  4.49,  4.06],\n",
       "       [ 3.16,  4.57,  5.23,  4.28,  5.28,  3.99,  2.77,  4.46,  5.05,\n",
       "         4.49,  0.  ,  3.53],\n",
       "       [ 4.25,  3.74,  4.36,  4.52,  4.32,  3.36,  4.35,  4.11,  4.52,\n",
       "         4.06,  3.53,  0.  ]])"
      ]
     },
     "metadata": {},
     "output_type": "display_data"
    }
   ],
   "source": [
    "labels,DM = spdmt.read_DM( 'example_DM.csv')\n",
    "print('Labels:',labels)\n",
    "display(DM)"
   ]
  },
  {
   "cell_type": "markdown",
   "metadata": {},
   "source": [
    "## Reordering labels\n",
    "Here we reorder labels by a clustering algorithm output, so cluster members are adjacent."
   ]
  },
  {
   "cell_type": "code",
   "execution_count": 12,
   "metadata": {},
   "outputs": [
    {
     "name": "stdout",
     "output_type": "stream",
     "text": [
      "('Original order:', ['caring', 'confident', 'emotionally_stable', 'intelligent', 'responsible', 'sociable', 'trustworthy', 'unhappy', 'weird', 'aggressive', 'dominant', 'mean'])\n",
      "('New order:', ['aggressive', 'dominant', 'mean', 'caring', 'confident', 'emotionally_stable', 'intelligent', 'responsible', 'sociable', 'trustworthy', 'unhappy', 'weird'])\n"
     ]
    }
   ],
   "source": [
    "from sklearn import cluster\n",
    "from sklearn.cluster import KMeans\n",
    "\n",
    "# cluster groupings acquisition\n",
    "estimator = KMeans(n_clusters=3)\n",
    "estimator.fit(DM)\n",
    "cluster_grouping = {i: np.where(estimator.labels_ == i)[0] for i in range(estimator.n_clusters)}\n",
    "\n",
    "# create the reordered indices based on clustering\n",
    "new_order = []\n",
    "for i in cluster_grouping:\n",
    "    for n in cluster_grouping[i].tolist():\n",
    "        new_order.append(n)\n",
    "\n",
    "print('Original order:',labels)\n",
    "labels,DM = spdmt.reorder_labels_DM(new_order,labels,DM)\n",
    "print('New order:',labels)"
   ]
  },
  {
   "cell_type": "markdown",
   "metadata": {},
   "source": [
    "## Plot and save distance matrix"
   ]
  },
  {
   "cell_type": "code",
   "execution_count": 31,
   "metadata": {},
   "outputs": [
    {
     "name": "stdout",
     "output_type": "stream",
     "text": [
      "Help on function DM_plot in module spaceplot_plotter:\n",
      "\n",
      "DM_plot(labels, DM, figoutpath='DM_plot.png')\n",
      "    Plot distance matrix (DM)\n",
      "    ---\n",
      "    ARGUMENTS:\n",
      "    ---\n",
      "    labels: list of strings, each element a variable name\n",
      "    DM: 2x2 numpy array, symmetric DM\n",
      "    figoutpath: optional, str, filename/type if to save figure\n",
      "    ---\n",
      "    Returns: no return, produces plot\n",
      "\n"
     ]
    },
    {
     "data": {
      "image/png": "[encoded data removed]",
      "text/plain": [
       "<matplotlib.figure.Figure at 0x120bbb290>"
      ]
     },
     "metadata": {},
     "output_type": "display_data"
    }
   ],
   "source": [
    "help(spp.DM_plot)\n",
    "spp.DM_plot(labels,DM)"
   ]
  }
 ],
 "metadata": {
  "kernelspec": {
   "display_name": "Python 2",
   "language": "python",
   "name": "python2"
  },
  "language_info": {
   "codemirror_mode": {
    "name": "ipython",
    "version": 2
   },
   "file_extension": ".py",
   "mimetype": "text/x-python",
   "name": "python",
   "nbconvert_exporter": "python",
   "pygments_lexer": "ipython2",
   "version": "2.7.14"
  }
 },
 "nbformat": 4,
 "nbformat_minor": 2
}
